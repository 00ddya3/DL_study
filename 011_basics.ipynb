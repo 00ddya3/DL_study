{
 "cells": [
  {
   "cell_type": "code",
   "execution_count": 1,
   "metadata": {},
   "outputs": [
    {
     "data": {
      "text/plain": [
       "'2.7.2'"
      ]
     },
     "execution_count": 1,
     "metadata": {},
     "output_type": "execute_result"
    }
   ],
   "source": [
    "import tensorflow as tf\n",
    "\n",
    "tf.__version__"
   ]
  },
  {
   "cell_type": "code",
   "execution_count": 7,
   "metadata": {},
   "outputs": [
    {
     "name": "stdout",
     "output_type": "stream",
     "text": [
      "b'hello, tensorflow!'\n"
     ]
    }
   ],
   "source": [
    "import tensorflow.compat.v1 as tf\n",
    "tf.disable_v2_behavior()\n",
    "\n",
    "#default graph에 node의 형태로 constant op 추가\n",
    "hello = tf.constant(\"hello, tensorflow!\")\n",
    "\n",
    "#TF session 생성\n",
    "sess = tf.Session()\n",
    "\n",
    "#op 실행\n",
    "print(sess.run(hello))\n",
    "#b' : byte literals 라는 뜻임, 신경X"
   ]
  },
  {
   "cell_type": "markdown",
   "metadata": {},
   "source": [
    "# Computational Graph"
   ]
  },
  {
   "cell_type": "code",
   "execution_count": 6,
   "metadata": {},
   "outputs": [
    {
     "name": "stdout",
     "output_type": "stream",
     "text": [
      "Tensor(\"Const_1:0\", shape=(), dtype=float32) Tensor(\"Const_2:0\", shape=(), dtype=float32) Tensor(\"Add:0\", shape=(), dtype=float32)\n"
     ]
    }
   ],
   "source": [
    "node1 = tf.constant(3.0, tf.float32)\n",
    "node2 = tf.constant(4.0, tf.float32)\n",
    "node3 = tf.add(node1, node2)\n",
    "#node3 = node1 + node2\n",
    "\n",
    "#결과값이 나오지 않음\n",
    "print(node1, node2, node3)"
   ]
  },
  {
   "cell_type": "code",
   "execution_count": 8,
   "metadata": {},
   "outputs": [
    {
     "name": "stdout",
     "output_type": "stream",
     "text": [
      "[3.0, 4.0]\n",
      "7.0\n"
     ]
    }
   ],
   "source": [
    "#session 생성 후 실행 필요\n",
    "sess = tf.Session()\n",
    "\n",
    "print(sess.run([node1, node2]))\n",
    "print(sess.run(node3))"
   ]
  },
  {
   "cell_type": "markdown",
   "metadata": {},
   "source": [
    "# Placeholder\n",
    "상수를 지정하지 않고 실행단계에서 선언하고 싶을 때"
   ]
  },
  {
   "cell_type": "code",
   "execution_count": 9,
   "metadata": {},
   "outputs": [
    {
     "name": "stdout",
     "output_type": "stream",
     "text": [
      "7.0\n",
      "[3. 8.]\n"
     ]
    }
   ],
   "source": [
    "a = tf.placeholder(tf.float32)\n",
    "b = tf.placeholder(tf.float32)\n",
    "adder_node = a+b\n",
    "\n",
    "print(sess.run(adder_node, feed_dict={a: 3, b: 4}))\n",
    "print(sess.run(adder_node, feed_dict={a: [1,3], b: [2,5]})) "
   ]
  },
  {
   "cell_type": "markdown",
   "metadata": {},
   "source": [
    "rank: 차원  \n",
    "0: scalar / 1: vector / 2: matrix / 3: 3-tensor / ...\n",
    "    \n",
    "shape: 원소의 개수  \n",
    "0: [] / 1: [a] / 2: [a, b] / ...  \n",
    "[2, 3]: [[a1, a2, a3], [b1, b2, b3]]\n",
    "\n",
    "type: 데이터 타입  \n",
    "int, float, ..."
   ]
  }
 ],
 "metadata": {
  "kernelspec": {
   "display_name": "Python 3.7.13 ('sklearn')",
   "language": "python",
   "name": "python3"
  },
  "language_info": {
   "codemirror_mode": {
    "name": "ipython",
    "version": 3
   },
   "file_extension": ".py",
   "mimetype": "text/x-python",
   "name": "python",
   "nbconvert_exporter": "python",
   "pygments_lexer": "ipython3",
   "version": "3.7.13"
  },
  "orig_nbformat": 4,
  "vscode": {
   "interpreter": {
    "hash": "4587f29e858e226412890b0be53498441dc114019e1a475fd5ac3bcafcae93fa"
   }
  }
 },
 "nbformat": 4,
 "nbformat_minor": 2
}
